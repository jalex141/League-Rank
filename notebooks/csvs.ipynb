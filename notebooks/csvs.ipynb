{
 "cells": [
  {
   "cell_type": "markdown",
   "id": "a85ba0d0",
   "metadata": {},
   "source": [
    "   # Machine Learning"
   ]
  },
  {
   "cell_type": "code",
   "execution_count": 2,
   "id": "6fc82b4b",
   "metadata": {},
   "outputs": [],
   "source": [
    "import pandas as pd\n",
    "from sklearn.ensemble import RandomForestClassifier, GradientBoostingClassifier\n",
    "import seaborn as sns\n",
    "import matplotlib as plt\n",
    "from sklearn.linear_model import LogisticRegression\n",
    "from sklearn.linear_model import LinearRegression\n",
    "from sklearn.metrics import mean_squared_error\n",
    "from sklearn.metrics import fbeta_score\n",
    "from sklearn.model_selection import train_test_split, GridSearchCV\n",
    "from sklearn.tree import DecisionTreeRegressor\n",
    "import numpy as np"
   ]
  },
  {
   "cell_type": "code",
   "execution_count": 3,
   "id": "75303f26",
   "metadata": {},
   "outputs": [
    {
     "data": {
      "text/html": [
       "<div>\n",
       "<style scoped>\n",
       "    .dataframe tbody tr th:only-of-type {\n",
       "        vertical-align: middle;\n",
       "    }\n",
       "\n",
       "    .dataframe tbody tr th {\n",
       "        vertical-align: top;\n",
       "    }\n",
       "\n",
       "    .dataframe thead th {\n",
       "        text-align: right;\n",
       "    }\n",
       "</style>\n",
       "<table border=\"1\" class=\"dataframe\">\n",
       "  <thead>\n",
       "    <tr style=\"text-align: right;\">\n",
       "      <th></th>\n",
       "      <th>summonerName</th>\n",
       "      <th>tier</th>\n",
       "      <th>division</th>\n",
       "      <th>leaguePoints</th>\n",
       "      <th>wins</th>\n",
       "      <th>losses</th>\n",
       "      <th>veteran</th>\n",
       "      <th>freshBlood</th>\n",
       "      <th>hotStreak</th>\n",
       "      <th>summonerLevel</th>\n",
       "      <th>...</th>\n",
       "      <th>totalMinionsKilled</th>\n",
       "      <th>totalTimeSpentDead</th>\n",
       "      <th>visionScore</th>\n",
       "      <th>gameStartTimestamp</th>\n",
       "      <th>championName</th>\n",
       "      <th>firstBloodAssist</th>\n",
       "      <th>firstBloodKill</th>\n",
       "      <th>inhibitorTakedowns</th>\n",
       "      <th>win</th>\n",
       "      <th>timePlayed</th>\n",
       "    </tr>\n",
       "  </thead>\n",
       "  <tbody>\n",
       "    <tr>\n",
       "      <th>0</th>\n",
       "      <td>gyojaldo</td>\n",
       "      <td>DIAMOND</td>\n",
       "      <td>I</td>\n",
       "      <td>17</td>\n",
       "      <td>235</td>\n",
       "      <td>215</td>\n",
       "      <td>False</td>\n",
       "      <td>False</td>\n",
       "      <td>False</td>\n",
       "      <td>196</td>\n",
       "      <td>...</td>\n",
       "      <td>1.205013</td>\n",
       "      <td>5.756193</td>\n",
       "      <td>0.788067</td>\n",
       "      <td>2</td>\n",
       "      <td>LeeSin</td>\n",
       "      <td>0.000000</td>\n",
       "      <td>0.166667</td>\n",
       "      <td>0.166667</td>\n",
       "      <td>0.333333</td>\n",
       "      <td>30.533333</td>\n",
       "    </tr>\n",
       "    <tr>\n",
       "      <th>1</th>\n",
       "      <td>ya ne ispravlus</td>\n",
       "      <td>DIAMOND</td>\n",
       "      <td>I</td>\n",
       "      <td>11</td>\n",
       "      <td>458</td>\n",
       "      <td>426</td>\n",
       "      <td>False</td>\n",
       "      <td>False</td>\n",
       "      <td>False</td>\n",
       "      <td>148</td>\n",
       "      <td>...</td>\n",
       "      <td>0.926244</td>\n",
       "      <td>7.768786</td>\n",
       "      <td>0.728324</td>\n",
       "      <td>12</td>\n",
       "      <td>RekSai</td>\n",
       "      <td>0.090909</td>\n",
       "      <td>0.272727</td>\n",
       "      <td>1.272727</td>\n",
       "      <td>0.636364</td>\n",
       "      <td>29.516667</td>\n",
       "    </tr>\n",
       "    <tr>\n",
       "      <th>2</th>\n",
       "      <td>EC4 Murkel</td>\n",
       "      <td>DIAMOND</td>\n",
       "      <td>I</td>\n",
       "      <td>36</td>\n",
       "      <td>300</td>\n",
       "      <td>288</td>\n",
       "      <td>False</td>\n",
       "      <td>False</td>\n",
       "      <td>False</td>\n",
       "      <td>584</td>\n",
       "      <td>...</td>\n",
       "      <td>7.662008</td>\n",
       "      <td>1.139008</td>\n",
       "      <td>0.673167</td>\n",
       "      <td>16</td>\n",
       "      <td>Malphite</td>\n",
       "      <td>0.500000</td>\n",
       "      <td>0.000000</td>\n",
       "      <td>0.500000</td>\n",
       "      <td>1.000000</td>\n",
       "      <td>18.950000</td>\n",
       "    </tr>\n",
       "    <tr>\n",
       "      <th>3</th>\n",
       "      <td>xXxavierlebgXx</td>\n",
       "      <td>DIAMOND</td>\n",
       "      <td>I</td>\n",
       "      <td>100</td>\n",
       "      <td>66</td>\n",
       "      <td>54</td>\n",
       "      <td>False</td>\n",
       "      <td>False</td>\n",
       "      <td>False</td>\n",
       "      <td>62</td>\n",
       "      <td>...</td>\n",
       "      <td>0.548154</td>\n",
       "      <td>3.135827</td>\n",
       "      <td>2.415867</td>\n",
       "      <td>17</td>\n",
       "      <td>Lulu</td>\n",
       "      <td>0.166667</td>\n",
       "      <td>0.000000</td>\n",
       "      <td>1.000000</td>\n",
       "      <td>0.833333</td>\n",
       "      <td>28.186111</td>\n",
       "    </tr>\n",
       "    <tr>\n",
       "      <th>4</th>\n",
       "      <td>Kakashi Kamui</td>\n",
       "      <td>DIAMOND</td>\n",
       "      <td>I</td>\n",
       "      <td>58</td>\n",
       "      <td>105</td>\n",
       "      <td>79</td>\n",
       "      <td>False</td>\n",
       "      <td>False</td>\n",
       "      <td>True</td>\n",
       "      <td>547</td>\n",
       "      <td>...</td>\n",
       "      <td>6.172784</td>\n",
       "      <td>5.683387</td>\n",
       "      <td>0.370848</td>\n",
       "      <td>13</td>\n",
       "      <td>Yasuo</td>\n",
       "      <td>0.000000</td>\n",
       "      <td>0.000000</td>\n",
       "      <td>1.000000</td>\n",
       "      <td>1.000000</td>\n",
       "      <td>24.508333</td>\n",
       "    </tr>\n",
       "    <tr>\n",
       "      <th>...</th>\n",
       "      <td>...</td>\n",
       "      <td>...</td>\n",
       "      <td>...</td>\n",
       "      <td>...</td>\n",
       "      <td>...</td>\n",
       "      <td>...</td>\n",
       "      <td>...</td>\n",
       "      <td>...</td>\n",
       "      <td>...</td>\n",
       "      <td>...</td>\n",
       "      <td>...</td>\n",
       "      <td>...</td>\n",
       "      <td>...</td>\n",
       "      <td>...</td>\n",
       "      <td>...</td>\n",
       "      <td>...</td>\n",
       "      <td>...</td>\n",
       "      <td>...</td>\n",
       "      <td>...</td>\n",
       "      <td>...</td>\n",
       "      <td>...</td>\n",
       "    </tr>\n",
       "    <tr>\n",
       "      <th>22181</th>\n",
       "      <td>ZzonleK</td>\n",
       "      <td>GOLD</td>\n",
       "      <td>II</td>\n",
       "      <td>1</td>\n",
       "      <td>427</td>\n",
       "      <td>403</td>\n",
       "      <td>False</td>\n",
       "      <td>False</td>\n",
       "      <td>True</td>\n",
       "      <td>294</td>\n",
       "      <td>...</td>\n",
       "      <td>1.133876</td>\n",
       "      <td>6.865360</td>\n",
       "      <td>0.718524</td>\n",
       "      <td>22</td>\n",
       "      <td>Kayn</td>\n",
       "      <td>0.166667</td>\n",
       "      <td>0.000000</td>\n",
       "      <td>0.666667</td>\n",
       "      <td>0.833333</td>\n",
       "      <td>30.819444</td>\n",
       "    </tr>\n",
       "    <tr>\n",
       "      <th>22182</th>\n",
       "      <td>Jùñglê</td>\n",
       "      <td>GOLD</td>\n",
       "      <td>II</td>\n",
       "      <td>46</td>\n",
       "      <td>24</td>\n",
       "      <td>17</td>\n",
       "      <td>False</td>\n",
       "      <td>False</td>\n",
       "      <td>False</td>\n",
       "      <td>37</td>\n",
       "      <td>...</td>\n",
       "      <td>1.228262</td>\n",
       "      <td>5.724598</td>\n",
       "      <td>0.717520</td>\n",
       "      <td>23</td>\n",
       "      <td>Khazix</td>\n",
       "      <td>0.000000</td>\n",
       "      <td>0.000000</td>\n",
       "      <td>0.500000</td>\n",
       "      <td>0.750000</td>\n",
       "      <td>32.329167</td>\n",
       "    </tr>\n",
       "    <tr>\n",
       "      <th>22183</th>\n",
       "      <td>Reformed Swe999</td>\n",
       "      <td>GOLD</td>\n",
       "      <td>II</td>\n",
       "      <td>72</td>\n",
       "      <td>66</td>\n",
       "      <td>32</td>\n",
       "      <td>False</td>\n",
       "      <td>False</td>\n",
       "      <td>True</td>\n",
       "      <td>50</td>\n",
       "      <td>...</td>\n",
       "      <td>6.293448</td>\n",
       "      <td>10.422806</td>\n",
       "      <td>0.438648</td>\n",
       "      <td>18</td>\n",
       "      <td>Kayle</td>\n",
       "      <td>0.000000</td>\n",
       "      <td>0.166667</td>\n",
       "      <td>0.333333</td>\n",
       "      <td>0.666667</td>\n",
       "      <td>30.208333</td>\n",
       "    </tr>\n",
       "    <tr>\n",
       "      <th>22184</th>\n",
       "      <td>nyjcia9</td>\n",
       "      <td>GOLD</td>\n",
       "      <td>II</td>\n",
       "      <td>39</td>\n",
       "      <td>68</td>\n",
       "      <td>77</td>\n",
       "      <td>False</td>\n",
       "      <td>False</td>\n",
       "      <td>False</td>\n",
       "      <td>134</td>\n",
       "      <td>...</td>\n",
       "      <td>5.160075</td>\n",
       "      <td>6.930320</td>\n",
       "      <td>0.198151</td>\n",
       "      <td>15</td>\n",
       "      <td>Syndra</td>\n",
       "      <td>0.000000</td>\n",
       "      <td>0.333333</td>\n",
       "      <td>0.000000</td>\n",
       "      <td>0.000000</td>\n",
       "      <td>26.422222</td>\n",
       "    </tr>\n",
       "    <tr>\n",
       "      <th>22185</th>\n",
       "      <td>ı I H I ı</td>\n",
       "      <td>GOLD</td>\n",
       "      <td>II</td>\n",
       "      <td>67</td>\n",
       "      <td>49</td>\n",
       "      <td>40</td>\n",
       "      <td>False</td>\n",
       "      <td>False</td>\n",
       "      <td>True</td>\n",
       "      <td>199</td>\n",
       "      <td>...</td>\n",
       "      <td>6.114600</td>\n",
       "      <td>9.765169</td>\n",
       "      <td>0.440959</td>\n",
       "      <td>19</td>\n",
       "      <td>Zed</td>\n",
       "      <td>0.000000</td>\n",
       "      <td>0.500000</td>\n",
       "      <td>1.500000</td>\n",
       "      <td>0.500000</td>\n",
       "      <td>34.108333</td>\n",
       "    </tr>\n",
       "  </tbody>\n",
       "</table>\n",
       "<p>22186 rows × 31 columns</p>\n",
       "</div>"
      ],
      "text/plain": [
       "          summonerName     tier division  leaguePoints  wins  losses  veteran  \\\n",
       "0             gyojaldo  DIAMOND        I            17   235     215    False   \n",
       "1      ya ne ispravlus  DIAMOND        I            11   458     426    False   \n",
       "2           EC4 Murkel  DIAMOND        I            36   300     288    False   \n",
       "3       xXxavierlebgXx  DIAMOND        I           100    66      54    False   \n",
       "4        Kakashi Kamui  DIAMOND        I            58   105      79    False   \n",
       "...                ...      ...      ...           ...   ...     ...      ...   \n",
       "22181          ZzonleK     GOLD       II             1   427     403    False   \n",
       "22182           Jùñglê     GOLD       II            46    24      17    False   \n",
       "22183  Reformed Swe999     GOLD       II            72    66      32    False   \n",
       "22184          nyjcia9     GOLD       II            39    68      77    False   \n",
       "22185        ı I H I ı     GOLD       II            67    49      40    False   \n",
       "\n",
       "       freshBlood  hotStreak  summonerLevel  ...  totalMinionsKilled  \\\n",
       "0           False      False            196  ...            1.205013   \n",
       "1           False      False            148  ...            0.926244   \n",
       "2           False      False            584  ...            7.662008   \n",
       "3           False      False             62  ...            0.548154   \n",
       "4           False       True            547  ...            6.172784   \n",
       "...           ...        ...            ...  ...                 ...   \n",
       "22181       False       True            294  ...            1.133876   \n",
       "22182       False      False             37  ...            1.228262   \n",
       "22183       False       True             50  ...            6.293448   \n",
       "22184       False      False            134  ...            5.160075   \n",
       "22185       False       True            199  ...            6.114600   \n",
       "\n",
       "       totalTimeSpentDead  visionScore  gameStartTimestamp  championName  \\\n",
       "0                5.756193     0.788067                   2        LeeSin   \n",
       "1                7.768786     0.728324                  12        RekSai   \n",
       "2                1.139008     0.673167                  16      Malphite   \n",
       "3                3.135827     2.415867                  17          Lulu   \n",
       "4                5.683387     0.370848                  13         Yasuo   \n",
       "...                   ...          ...                 ...           ...   \n",
       "22181            6.865360     0.718524                  22          Kayn   \n",
       "22182            5.724598     0.717520                  23        Khazix   \n",
       "22183           10.422806     0.438648                  18         Kayle   \n",
       "22184            6.930320     0.198151                  15        Syndra   \n",
       "22185            9.765169     0.440959                  19           Zed   \n",
       "\n",
       "       firstBloodAssist  firstBloodKill  inhibitorTakedowns       win  \\\n",
       "0              0.000000        0.166667            0.166667  0.333333   \n",
       "1              0.090909        0.272727            1.272727  0.636364   \n",
       "2              0.500000        0.000000            0.500000  1.000000   \n",
       "3              0.166667        0.000000            1.000000  0.833333   \n",
       "4              0.000000        0.000000            1.000000  1.000000   \n",
       "...                 ...             ...                 ...       ...   \n",
       "22181          0.166667        0.000000            0.666667  0.833333   \n",
       "22182          0.000000        0.000000            0.500000  0.750000   \n",
       "22183          0.000000        0.166667            0.333333  0.666667   \n",
       "22184          0.000000        0.333333            0.000000  0.000000   \n",
       "22185          0.000000        0.500000            1.500000  0.500000   \n",
       "\n",
       "       timePlayed  \n",
       "0       30.533333  \n",
       "1       29.516667  \n",
       "2       18.950000  \n",
       "3       28.186111  \n",
       "4       24.508333  \n",
       "...           ...  \n",
       "22181   30.819444  \n",
       "22182   32.329167  \n",
       "22183   30.208333  \n",
       "22184   26.422222  \n",
       "22185   34.108333  \n",
       "\n",
       "[22186 rows x 31 columns]"
      ]
     },
     "execution_count": 3,
     "metadata": {},
     "output_type": "execute_result"
    }
   ],
   "source": [
    "df = pd.read_csv(\"../data/dataframe.csv\")\n",
    "df2 = pd.read_csv(\"../data/dataframe2.csv\")\n",
    "\n",
    "df"
   ]
  },
  {
   "cell_type": "code",
   "execution_count": 25,
   "id": "0b3d3416",
   "metadata": {},
   "outputs": [
    {
     "data": {
      "text/plain": [
       "(22186, 31)"
      ]
     },
     "execution_count": 25,
     "metadata": {},
     "output_type": "execute_result"
    }
   ],
   "source": [
    "df.shape"
   ]
  },
  {
   "cell_type": "code",
   "execution_count": 26,
   "id": "7c5f9230",
   "metadata": {},
   "outputs": [
    {
     "data": {
      "text/plain": [
       "(25963, 31)"
      ]
     },
     "execution_count": 26,
     "metadata": {},
     "output_type": "execute_result"
    }
   ],
   "source": [
    "df2.shape"
   ]
  },
  {
   "cell_type": "code",
   "execution_count": 4,
   "id": "281c2cd7",
   "metadata": {},
   "outputs": [],
   "source": [
    "df.fillna(0,inplace=True)\n",
    "df2.fillna(0,inplace=True)\n"
   ]
  },
  {
   "cell_type": "code",
   "execution_count": 121,
   "id": "f0b9783c",
   "metadata": {},
   "outputs": [
    {
     "data": {
      "text/plain": [
       "Index(['summonerName', 'tier', 'division', 'leaguePoints', 'wins', 'losses',\n",
       "       'veteran', 'freshBlood', 'hotStreak', 'summonerLevel', 'assists',\n",
       "       'champExperience', 'damageDealtToBuildings', 'damageDealtToObjectives',\n",
       "       'damageSelfMitigated', 'deaths', 'goldEarned', 'kills',\n",
       "       'timeCCingOthers', 'totalDamageDealt', 'totalDamageDealtToChampions',\n",
       "       'totalMinionsKilled', 'totalTimeSpentDead', 'visionScore',\n",
       "       'gameStartTimestamp', 'championName', 'firstBloodAssist',\n",
       "       'firstBloodKill', 'inhibitorTakedowns', 'win', 'timePlayed'],\n",
       "      dtype='object')"
      ]
     },
     "execution_count": 121,
     "metadata": {},
     "output_type": "execute_result"
    }
   ],
   "source": [
    "df.columns"
   ]
  },
  {
   "cell_type": "code",
   "execution_count": 28,
   "id": "60ae3a1b",
   "metadata": {},
   "outputs": [
    {
     "data": {
      "text/plain": [
       "<AxesSubplot:xlabel='gameStartTimestamp', ylabel='count'>"
      ]
     },
     "execution_count": 28,
     "metadata": {},
     "output_type": "execute_result"
    },
    {
     "data": {
      "image/png": "[encoded data removed]",
      "text/plain": [
       "<Figure size 432x288 with 1 Axes>"
      ]
     },
     "metadata": {
      "needs_background": "light"
     },
     "output_type": "display_data"
    }
   ],
   "source": [
    "sns.countplot(x=df2[\"gameStartTimestamp\"],order=None)"
   ]
  },
  {
   "cell_type": "code",
   "execution_count": 29,
   "id": "ab7ef18e",
   "metadata": {},
   "outputs": [
    {
     "data": {
      "text/plain": [
       "DIAMOND        4064\n",
       "GOLD           4010\n",
       "PLATINUM       4007\n",
       "SILVER         4006\n",
       "BRONZE         3953\n",
       "IRON           3914\n",
       "MASTER         1017\n",
       "GRANDMASTER     693\n",
       "CHALLENGER      299\n",
       "Name: tier, dtype: int64"
      ]
     },
     "execution_count": 29,
     "metadata": {},
     "output_type": "execute_result"
    }
   ],
   "source": [
    "df2.tier.value_counts()"
   ]
  },
  {
   "cell_type": "code",
   "execution_count": 30,
   "id": "a6dec714",
   "metadata": {},
   "outputs": [
    {
     "data": {
      "text/plain": [
       "Yasuo          638\n",
       "Lux            473\n",
       "Ezreal         438\n",
       "Jhin           433\n",
       "Zed            433\n",
       "              ... \n",
       "Azir            33\n",
       "Lissandra       32\n",
       "Elise           26\n",
       "AurelionSol     25\n",
       "Skarner         18\n",
       "Name: championName, Length: 157, dtype: int64"
      ]
     },
     "execution_count": 30,
     "metadata": {},
     "output_type": "execute_result"
    }
   ],
   "source": [
    "df2.championName.value_counts()"
   ]
  },
  {
   "cell_type": "code",
   "execution_count": 122,
   "id": "21ac47d8",
   "metadata": {},
   "outputs": [
    {
     "data": {
      "text/plain": [
       "SOLO       10928\n",
       "SUPPORT     5417\n",
       "NONE        5017\n",
       "CARRY       4357\n",
       "DUO          244\n",
       "Name: role, dtype: int64"
      ]
     },
     "execution_count": 122,
     "metadata": {},
     "output_type": "execute_result"
    }
   ],
   "source": [
    "df2[\"role\"].value_counts()"
   ]
  },
  {
   "cell_type": "code",
   "execution_count": 5,
   "id": "77cfedd0",
   "metadata": {},
   "outputs": [],
   "source": [
    "df[\"rank\"] = df.tier + df.division\n",
    "df2[\"rank\"] = df2.tier + df2.division"
   ]
  },
  {
   "cell_type": "code",
   "execution_count": 15,
   "id": "c12dcf29",
   "metadata": {},
   "outputs": [
    {
     "name": "stdout",
     "output_type": "stream",
     "text": [
      "27  ranks\n"
     ]
    },
    {
     "data": {
      "text/plain": [
       "array(['DIAMONDI', 'DIAMONDII', 'DIAMONDIII', 'DIAMONDIV', 'PLATINUMI',\n",
       "       'PLATINUMII', 'PLATINUMIII', 'SILVERI', 'SILVERII', 'SILVERIII',\n",
       "       'SILVERIV', 'BRONZEI', 'BRONZEII', 'BRONZEIII', 'BRONZEIV',\n",
       "       'IRONI', 'IRONII', 'IRONIII', 'GOLDII', 'GOLDIII', 'GOLDIV',\n",
       "       'IRONIV', 'CHALLENGERI', 'GRANDMASTERI', 'MASTERI', 'PLATINUMIV',\n",
       "       'GOLDI'], dtype=object)"
      ]
     },
     "execution_count": 15,
     "metadata": {},
     "output_type": "execute_result"
    }
   ],
   "source": [
    "print(len(df[\"rank\"].unique()),\" ranks\")\n",
    "df[\"rank\"].unique()"
   ]
  },
  {
   "cell_type": "code",
   "execution_count": 6,
   "id": "8bf3b96b",
   "metadata": {},
   "outputs": [],
   "source": [
    "num_rank = {'DIAMONDI':24, 'DIAMONDII':23, 'DIAMONDIII':22, 'DIAMONDIV':21, 'PLATINUMI':20,\n",
    "       'PLATINUMII':19, 'PLATINUMIII':18, 'SILVERI':12, 'SILVERII':11, 'SILVERIII':10,\n",
    "       'SILVERIV':9, 'BRONZEI':8, 'BRONZEII':7, 'BRONZEIII':6, 'BRONZEIV':5,\n",
    "       'IRONI':4, 'IRONII':3, 'IRONIII':2, 'GOLDII':15, 'GOLDIII':14, 'GOLDIV':13,\n",
    "       'IRONIV':1, 'CHALLENGERI':27, 'GRANDMASTERI':26, 'MASTERI':25, 'PLATINUMIV':17,\n",
    "       'GOLDI':16}"
   ]
  },
  {
   "cell_type": "code",
   "execution_count": 23,
   "id": "7867bdba",
   "metadata": {},
   "outputs": [
    {
     "data": {
      "text/plain": [
       "{24: 'DIAMONDI',\n",
       " 23: 'DIAMONDII',\n",
       " 22: 'DIAMONDIII',\n",
       " 21: 'DIAMONDIV',\n",
       " 20: 'PLATINUMI',\n",
       " 19: 'PLATINUMII',\n",
       " 18: 'PLATINUMIII',\n",
       " 12: 'SILVERI',\n",
       " 11: 'SILVERII',\n",
       " 10: 'SILVERIII',\n",
       " 9: 'SILVERIV',\n",
       " 8: 'BRONZEI',\n",
       " 7: 'BRONZEII',\n",
       " 6: 'BRONZEIII',\n",
       " 5: 'BRONZEIV',\n",
       " 4: 'IRONI',\n",
       " 3: 'IRONII',\n",
       " 2: 'IRONIII',\n",
       " 15: 'GOLDII',\n",
       " 14: 'GOLDIII',\n",
       " 13: 'GOLDIV',\n",
       " 1: 'IRONIV',\n",
       " 27: 'CHALLENGERI',\n",
       " 26: 'GRANDMASTERI',\n",
       " 25: 'MASTERI',\n",
       " 17: 'PLATINUMIV',\n",
       " 16: 'GOLDI'}"
      ]
     },
     "execution_count": 23,
     "metadata": {},
     "output_type": "execute_result"
    }
   ],
   "source": [
    "d= {v:k for k,v in num_rank.items()}\n",
    "d"
   ]
  },
  {
   "cell_type": "code",
   "execution_count": 20,
   "id": "d9dbe972",
   "metadata": {},
   "outputs": [
    {
     "data": {
      "text/plain": [
       "'IRONI'"
      ]
     },
     "execution_count": 20,
     "metadata": {},
     "output_type": "execute_result"
    }
   ],
   "source": [
    "d[4]"
   ]
  },
  {
   "cell_type": "code",
   "execution_count": 7,
   "id": "8893777a",
   "metadata": {},
   "outputs": [
    {
     "data": {
      "text/plain": [
       "array([24, 23, 22, 21, 20, 19, 18, 12, 11, 10,  9,  8,  7,  6,  5,  4,  3,\n",
       "        2, 15, 14, 13,  1, 27, 26, 25, 17, 16])"
      ]
     },
     "execution_count": 7,
     "metadata": {},
     "output_type": "execute_result"
    }
   ],
   "source": [
    "df[\"rank\"] = df[\"rank\"].replace(num_rank)\n",
    "df2[\"rank\"] = df2[\"rank\"].replace(num_rank)\n",
    "\n",
    "df[\"rank\"].unique()"
   ]
  },
  {
   "cell_type": "code",
   "execution_count": 36,
   "id": "61306d0a",
   "metadata": {},
   "outputs": [
    {
     "data": {
      "text/plain": [
       "<AxesSubplot:xlabel='rank', ylabel='count'>"
      ]
     },
     "execution_count": 36,
     "metadata": {},
     "output_type": "execute_result"
    },
    {
     "data": {
      "image/png": "[encoded data removed]",
      "text/plain": [
       "<Figure size 432x288 with 1 Axes>"
      ]
     },
     "metadata": {
      "needs_background": "light"
     },
     "output_type": "display_data"
    }
   ],
   "source": [
    "sns.countplot(x=df2[\"rank\"], palette=\"Oranges\")"
   ]
  },
  {
   "cell_type": "code",
   "execution_count": 8,
   "id": "f71bcf6a",
   "metadata": {},
   "outputs": [],
   "source": [
    "df[\"win_r\"]= df.wins/(df.wins + df.losses)\n",
    "df2[\"win_r\"]= df2.wins/(df2.wins + df2.losses)"
   ]
  },
  {
   "cell_type": "code",
   "execution_count": 67,
   "id": "40072b0a",
   "metadata": {},
   "outputs": [
    {
     "data": {
      "text/plain": [
       "timePlayed                    -0.228871\n",
       "totalTimeSpentDead            -0.187669\n",
       "deaths                        -0.156640\n",
       "timeCCingOthers               -0.003926\n",
       "gameStartTimestamp             0.010535\n",
       "firstBloodKill                 0.051640\n",
       "damageSelfMitigated            0.057332\n",
       "firstBloodAssist               0.091566\n",
       "hotStreak                      0.100320\n",
       "damageDealtToBuildings         0.137086\n",
       "win                            0.143568\n",
       "kills                          0.150199\n",
       "inhibitorTakedowns             0.161154\n",
       "damageDealtToObjectives        0.166800\n",
       "assists                        0.181694\n",
       "totalDamageDealtToChampions    0.217204\n",
       "freshBlood                     0.218953\n",
       "veteran                        0.239159\n",
       "totalMinionsKilled             0.240303\n",
       "totalDamageDealt               0.247846\n",
       "champExperience                0.301213\n",
       "visionScore                    0.307949\n",
       "summonerLevel                  0.313340\n",
       "goldEarned                     0.366195\n",
       "leaguePoints                   0.431955\n",
       "losses                         0.441501\n",
       "wins                           0.512158\n",
       "win_r                          0.567122\n",
       "rank                           1.000000\n",
       "Name: rank, dtype: float64"
      ]
     },
     "execution_count": 67,
     "metadata": {},
     "output_type": "execute_result"
    }
   ],
   "source": [
    "df.corr()[\"rank\"].sort_values()"
   ]
  },
  {
   "cell_type": "code",
   "execution_count": 10,
   "id": "92093e34",
   "metadata": {},
   "outputs": [
    {
     "data": {
      "image/png": "[encoded data removed]",
      "text/plain": [
       "<Figure size 432x288 with 2 Axes>"
      ]
     },
     "metadata": {
      "needs_background": "light"
     },
     "output_type": "display_data"
    }
   ],
   "source": [
    "mask = np.triu(np.ones_like(df2.corr(), dtype=bool)) \n",
    "color_map = sns.diverging_palette(0, 10, as_cmap=True) \n",
    "\n",
    "\n",
    "sns.heatmap(df2.corr(), \n",
    "            mask=mask,\n",
    "            cmap=\"viridis\",\n",
    "            vmax=1,\n",
    "            square=True, \n",
    "            linewidth=.5, \n",
    "            cbar_kws={\"shrink\": .5} \n",
    "\n",
    ");"
   ]
  },
  {
   "cell_type": "code",
   "execution_count": 12,
   "id": "efeb0249",
   "metadata": {},
   "outputs": [
    {
     "data": {
      "text/plain": [
       "(25963, 37)"
      ]
     },
     "execution_count": 12,
     "metadata": {},
     "output_type": "execute_result"
    }
   ],
   "source": [
    "df2 = pd.get_dummies(df2, columns=[\"role\"], drop_first=False)\n",
    "df2.shape"
   ]
  },
  {
   "cell_type": "code",
   "execution_count": 13,
   "id": "6a4bc88c",
   "metadata": {},
   "outputs": [],
   "source": [
    "dfm = df.drop([\"summonerName\",\"tier\",\"division\",\"championName\"],axis=1)\n",
    "df2m = df2.drop([\"summonerName\",\"tier\",\"division\",\"championName\"],axis=1)"
   ]
  },
  {
   "cell_type": "markdown",
   "id": "7f53c53c",
   "metadata": {},
   "source": [
    "## Model"
   ]
  },
  {
   "cell_type": "code",
   "execution_count": 14,
   "id": "090bbb13",
   "metadata": {},
   "outputs": [],
   "source": [
    "X = dfm.drop(\"rank\", axis=1)\n",
    "y = dfm[\"rank\"]\n",
    "\n",
    "X2 = df2m.drop(\"rank\", axis=1)\n",
    "y2 = df2m[\"rank\"]"
   ]
  },
  {
   "cell_type": "code",
   "execution_count": 15,
   "id": "d3eb631b",
   "metadata": {},
   "outputs": [],
   "source": [
    "X_train, X_test, y_train, y_test = train_test_split(X, y, test_size=0.2, random_state=141)\n",
    "\n",
    "X2_train, X2_test, y2_train, y2_test = train_test_split(X2, y2, test_size=0.2, random_state=141)\n"
   ]
  },
  {
   "cell_type": "code",
   "execution_count": 17,
   "id": "3fe848e3",
   "metadata": {},
   "outputs": [
    {
     "data": {
      "text/plain": [
       "Index(['leaguePoints', 'wins', 'losses', 'veteran', 'freshBlood', 'hotStreak',\n",
       "       'summonerLevel', 'assists', 'champExperience', 'damageDealtToBuildings',\n",
       "       'damageDealtToObjectives', 'damageSelfMitigated', 'deaths',\n",
       "       'goldEarned', 'kills', 'timeCCingOthers', 'totalDamageDealt',\n",
       "       'totalDamageDealtToChampions', 'totalMinionsKilled',\n",
       "       'totalTimeSpentDead', 'visionScore', 'gameStartTimestamp',\n",
       "       'firstBloodAssist', 'firstBloodKill', 'win', 'timePlayed', 'win_r',\n",
       "       'role_CARRY', 'role_DUO', 'role_NONE', 'role_SOLO', 'role_SUPPORT'],\n",
       "      dtype='object')"
      ]
     },
     "execution_count": 17,
     "metadata": {},
     "output_type": "execute_result"
    }
   ],
   "source": [
    "X2_train.columns"
   ]
  },
  {
   "cell_type": "code",
   "execution_count": 42,
   "id": "c8a821e5",
   "metadata": {},
   "outputs": [
    {
     "data": {
      "text/plain": [
       "LinearRegression()"
      ]
     },
     "execution_count": 42,
     "metadata": {},
     "output_type": "execute_result"
    }
   ],
   "source": [
    "lin = LinearRegression()\n",
    "lin.fit(\n",
    "    X=X_train, \n",
    "    y=y_train\n",
    ")"
   ]
  },
  {
   "cell_type": "code",
   "execution_count": 43,
   "id": "42317965",
   "metadata": {},
   "outputs": [
    {
     "data": {
      "text/plain": [
       "LinearRegression()"
      ]
     },
     "execution_count": 43,
     "metadata": {},
     "output_type": "execute_result"
    }
   ],
   "source": [
    "lin2 = LinearRegression()\n",
    "lin2.fit(\n",
    "    X=X2_train, \n",
    "    y=y2_train\n",
    ")"
   ]
  },
  {
   "cell_type": "code",
   "execution_count": 44,
   "id": "9e176a50",
   "metadata": {},
   "outputs": [
    {
     "data": {
      "text/plain": [
       "array([25.8,  7.7,  8.5,  6.2, 17.7])"
      ]
     },
     "execution_count": 44,
     "metadata": {},
     "output_type": "execute_result"
    }
   ],
   "source": [
    "lin.predict(X_test[:5]).round(1)"
   ]
  },
  {
   "cell_type": "code",
   "execution_count": 45,
   "id": "7326ccc2",
   "metadata": {},
   "outputs": [
    {
     "data": {
      "text/plain": [
       "18200    26\n",
       "11772     4\n",
       "9438      8\n",
       "12444     3\n",
       "1715     23\n",
       "Name: rank, dtype: int64"
      ]
     },
     "execution_count": 45,
     "metadata": {},
     "output_type": "execute_result"
    }
   ],
   "source": [
    "y_test[:5]\n"
   ]
  },
  {
   "cell_type": "code",
   "execution_count": 46,
   "id": "3ec938e4",
   "metadata": {},
   "outputs": [
    {
     "data": {
      "text/plain": [
       "array([17.3, 12.7, 19.8, 14. ,  3. ])"
      ]
     },
     "execution_count": 46,
     "metadata": {},
     "output_type": "execute_result"
    }
   ],
   "source": [
    "lin2.predict(X2_test[:5]).round(1)"
   ]
  },
  {
   "cell_type": "code",
   "execution_count": 47,
   "id": "568f9a62",
   "metadata": {},
   "outputs": [
    {
     "data": {
      "text/plain": [
       "5314     19\n",
       "8076     10\n",
       "5188     19\n",
       "4826     20\n",
       "11851     6\n",
       "Name: rank, dtype: int64"
      ]
     },
     "execution_count": 47,
     "metadata": {},
     "output_type": "execute_result"
    }
   ],
   "source": [
    "y2_test[:5]\n"
   ]
  },
  {
   "cell_type": "code",
   "execution_count": 81,
   "id": "5695d724",
   "metadata": {},
   "outputs": [
    {
     "name": "stdout",
     "output_type": "stream",
     "text": [
      "train error  15.811\n",
      "test error  15.029\n"
     ]
    }
   ],
   "source": [
    "print(\"train error \",mean_squared_error(y_train, lin.predict(X_train)).round(3))\n",
    "print(\"test error \",mean_squared_error(y_test, lin.predict(X_test)).round(3))"
   ]
  },
  {
   "cell_type": "code",
   "execution_count": 48,
   "id": "3fa462ec",
   "metadata": {},
   "outputs": [
    {
     "name": "stdout",
     "output_type": "stream",
     "text": [
      "train2 error  14.247\n",
      "test2 error  13.93\n"
     ]
    }
   ],
   "source": [
    "print(\"train2 error \",mean_squared_error(y2_train, lin2.predict(X2_train)).round(3))\n",
    "print(\"test2 error \",mean_squared_error(y2_test, lin2.predict(X2_test)).round(3))"
   ]
  },
  {
   "cell_type": "code",
   "execution_count": 49,
   "id": "402288e3",
   "metadata": {},
   "outputs": [
    {
     "data": {
      "text/plain": [
       "DecisionTreeRegressor(max_depth=1, random_state=141)"
      ]
     },
     "execution_count": 49,
     "metadata": {},
     "output_type": "execute_result"
    }
   ],
   "source": [
    "model = DecisionTreeRegressor(max_depth=1, random_state=141)\n",
    "model.fit(X_train, y_train)\n",
    "\n",
    "model2 = DecisionTreeRegressor(max_depth=1, random_state=141)\n",
    "model2.fit(X2_train, y2_train)\n"
   ]
  },
  {
   "cell_type": "code",
   "execution_count": 85,
   "id": "c8dbb371",
   "metadata": {},
   "outputs": [
    {
     "data": {
      "text/plain": [
       "array([17.57, 17.57,  7.47,  7.47, 17.57])"
      ]
     },
     "execution_count": 85,
     "metadata": {},
     "output_type": "execute_result"
    }
   ],
   "source": [
    "model.predict(X_train[:5].values).round(2)"
   ]
  },
  {
   "cell_type": "code",
   "execution_count": 86,
   "id": "2e75a973",
   "metadata": {},
   "outputs": [
    {
     "data": {
      "text/plain": [
       "4686     20\n",
       "3906     21\n",
       "13481     2\n",
       "11440     5\n",
       "16083    12\n",
       "Name: rank, dtype: int64"
      ]
     },
     "execution_count": 86,
     "metadata": {},
     "output_type": "execute_result"
    }
   ],
   "source": [
    "y_train[:5]"
   ]
  },
  {
   "cell_type": "code",
   "execution_count": 50,
   "id": "5900db89",
   "metadata": {},
   "outputs": [
    {
     "data": {
      "text/plain": [
       "array([ 7.17,  7.17, 17.07, 17.07,  7.17])"
      ]
     },
     "execution_count": 50,
     "metadata": {},
     "output_type": "execute_result"
    }
   ],
   "source": [
    "model2.predict(X2_train[:5].values).round(2)"
   ]
  },
  {
   "cell_type": "code",
   "execution_count": 51,
   "id": "4c27f889",
   "metadata": {},
   "outputs": [
    {
     "data": {
      "text/plain": [
       "12139     6\n",
       "15001     3\n",
       "12330     6\n",
       "21803    25\n",
       "20034     1\n",
       "Name: rank, dtype: int64"
      ]
     },
     "execution_count": 51,
     "metadata": {},
     "output_type": "execute_result"
    }
   ],
   "source": [
    "y2_train[:5]"
   ]
  },
  {
   "cell_type": "code",
   "execution_count": 55,
   "id": "2a0650f4",
   "metadata": {},
   "outputs": [
    {
     "name": "stdout",
     "output_type": "stream",
     "text": [
      "train error  34.015\n",
      "test error  32.941\n",
      "\n",
      "train2 error  34.096\n",
      "test2 error  34.099\n"
     ]
    }
   ],
   "source": [
    "print(\"train error \",mean_squared_error(\n",
    "    y_true=y_train,\n",
    "    y_pred=model.predict(X_train)\n",
    ").round(3))\n",
    "print(\"test error \",mean_squared_error(\n",
    "    y_true=y_test,\n",
    "    y_pred=model.predict(X_test)\n",
    ").round(3))\n",
    "print()\n",
    "print(\"train2 error \",mean_squared_error(\n",
    "    y_true=y2_train,\n",
    "    y_pred=model2.predict(X2_train)\n",
    ").round(3))\n",
    "print(\"test2 error \",mean_squared_error(\n",
    "    y_true=y2_test,\n",
    "    y_pred=model2.predict(X2_test)\n",
    ").round(3))"
   ]
  },
  {
   "cell_type": "markdown",
   "id": "40ac0dfb",
   "metadata": {},
   "source": [
    "### depth tree "
   ]
  },
  {
   "cell_type": "code",
   "execution_count": 91,
   "id": "48ab2ad7",
   "metadata": {},
   "outputs": [],
   "source": [
    "results = []\n",
    "\n",
    "for depth in range(1, 21):\n",
    "    model = DecisionTreeRegressor(max_depth=depth, random_state=666)\n",
    "    model.fit(X_train, y_train)\n",
    "    \n",
    "    result = {\n",
    "        \"model\": model,\n",
    "        \"depth\": depth,\n",
    "        \"train_error\": mean_squared_error(y_train, model.predict(X_train)),\n",
    "        \"test_error\": mean_squared_error(y_test, model.predict(X_test))\n",
    "    }\n",
    "    \n",
    "    results.append(result)"
   ]
  },
  {
   "cell_type": "code",
   "execution_count": 56,
   "id": "a01179e4",
   "metadata": {},
   "outputs": [],
   "source": [
    "import pandas as pd\n",
    "import numpy as np\n",
    "\n",
    "import seaborn as sns\n",
    "import matplotlib.pyplot as plt"
   ]
  },
  {
   "cell_type": "code",
   "execution_count": 94,
   "id": "2fdb243d",
   "metadata": {},
   "outputs": [
    {
     "data": {
      "text/plain": [
       "<matplotlib.legend.Legend at 0x7fa2a2c9b310>"
      ]
     },
     "execution_count": 94,
     "metadata": {},
     "output_type": "execute_result"
    },
    {
     "data": {
      "image/png": "[encoded data removed]",
      "text/plain": [
       "<Figure size 720x720 with 1 Axes>"
      ]
     },
     "metadata": {
      "needs_background": "light"
     },
     "output_type": "display_data"
    }
   ],
   "source": [
    "results_df = pd.DataFrame(results)\n",
    "\n",
    "fig = plt.figure(figsize=(10, 10))\n",
    "plt.plot(results_df.depth, results_df.train_error, label=\"train error\")\n",
    "plt.plot(results_df.depth, results_df.test_error, label=\"test error\")\n",
    "plt.legend()"
   ]
  },
  {
   "cell_type": "code",
   "execution_count": 95,
   "id": "f75ac25d",
   "metadata": {},
   "outputs": [
    {
     "data": {
      "text/plain": [
       "DecisionTreeRegressor(max_depth=7, min_samples_split=30, random_state=141)"
      ]
     },
     "execution_count": 95,
     "metadata": {},
     "output_type": "execute_result"
    }
   ],
   "source": [
    "model = DecisionTreeRegressor(max_depth=7, min_samples_split=30, random_state=141)\n",
    "model.fit(X_train, y_train)\n"
   ]
  },
  {
   "cell_type": "code",
   "execution_count": 62,
   "id": "ca68b550",
   "metadata": {},
   "outputs": [
    {
     "ename": "ValueError",
     "evalue": "X has 28 features, but DecisionTreeRegressor is expecting 32 features as input.",
     "output_type": "error",
     "traceback": [
      "\u001b[0;31m---------------------------------------------------------------------------\u001b[0m",
      "\u001b[0;31mValueError\u001b[0m                                Traceback (most recent call last)",
      "\u001b[0;32m/tmp/ipykernel_7978/3795057413.py\u001b[0m in \u001b[0;36m<module>\u001b[0;34m\u001b[0m\n\u001b[0;32m----> 1\u001b[0;31m \u001b[0mprint\u001b[0m\u001b[0;34m(\u001b[0m\u001b[0;34mf\"RMSE train: {mean_squared_error(y_train, model.predict(X_train)) ** 0.5}\"\u001b[0m\u001b[0;34m)\u001b[0m\u001b[0;34m\u001b[0m\u001b[0;34m\u001b[0m\u001b[0m\n\u001b[0m\u001b[1;32m      2\u001b[0m \u001b[0mprint\u001b[0m\u001b[0;34m(\u001b[0m\u001b[0;34mf\"RMSE test: {mean_squared_error(y_test, model.predict(X_test)) ** 0.5}\"\u001b[0m\u001b[0;34m)\u001b[0m\u001b[0;34m\u001b[0m\u001b[0;34m\u001b[0m\u001b[0m\n",
      "\u001b[0;32m~/.local/lib/python3.8/site-packages/sklearn/tree/_classes.py\u001b[0m in \u001b[0;36mpredict\u001b[0;34m(self, X, check_input)\u001b[0m\n\u001b[1;32m    440\u001b[0m         \"\"\"\n\u001b[1;32m    441\u001b[0m         \u001b[0mcheck_is_fitted\u001b[0m\u001b[0;34m(\u001b[0m\u001b[0mself\u001b[0m\u001b[0;34m)\u001b[0m\u001b[0;34m\u001b[0m\u001b[0;34m\u001b[0m\u001b[0m\n\u001b[0;32m--> 442\u001b[0;31m         \u001b[0mX\u001b[0m \u001b[0;34m=\u001b[0m \u001b[0mself\u001b[0m\u001b[0;34m.\u001b[0m\u001b[0m_validate_X_predict\u001b[0m\u001b[0;34m(\u001b[0m\u001b[0mX\u001b[0m\u001b[0;34m,\u001b[0m \u001b[0mcheck_input\u001b[0m\u001b[0;34m)\u001b[0m\u001b[0;34m\u001b[0m\u001b[0;34m\u001b[0m\u001b[0m\n\u001b[0m\u001b[1;32m    443\u001b[0m         \u001b[0mproba\u001b[0m \u001b[0;34m=\u001b[0m \u001b[0mself\u001b[0m\u001b[0;34m.\u001b[0m\u001b[0mtree_\u001b[0m\u001b[0;34m.\u001b[0m\u001b[0mpredict\u001b[0m\u001b[0;34m(\u001b[0m\u001b[0mX\u001b[0m\u001b[0;34m)\u001b[0m\u001b[0;34m\u001b[0m\u001b[0;34m\u001b[0m\u001b[0m\n\u001b[1;32m    444\u001b[0m         \u001b[0mn_samples\u001b[0m \u001b[0;34m=\u001b[0m \u001b[0mX\u001b[0m\u001b[0;34m.\u001b[0m\u001b[0mshape\u001b[0m\u001b[0;34m[\u001b[0m\u001b[0;36m0\u001b[0m\u001b[0;34m]\u001b[0m\u001b[0;34m\u001b[0m\u001b[0;34m\u001b[0m\u001b[0m\n",
      "\u001b[0;32m~/.local/lib/python3.8/site-packages/sklearn/tree/_classes.py\u001b[0m in \u001b[0;36m_validate_X_predict\u001b[0;34m(self, X, check_input)\u001b[0m\n\u001b[1;32m    405\u001b[0m         \u001b[0;34m\"\"\"Validate the training data on predict (probabilities).\"\"\"\u001b[0m\u001b[0;34m\u001b[0m\u001b[0;34m\u001b[0m\u001b[0m\n\u001b[1;32m    406\u001b[0m         \u001b[0;32mif\u001b[0m \u001b[0mcheck_input\u001b[0m\u001b[0;34m:\u001b[0m\u001b[0;34m\u001b[0m\u001b[0;34m\u001b[0m\u001b[0m\n\u001b[0;32m--> 407\u001b[0;31m             X = self._validate_data(X, dtype=DTYPE, accept_sparse=\"csr\",\n\u001b[0m\u001b[1;32m    408\u001b[0m                                     reset=False)\n\u001b[1;32m    409\u001b[0m             if issparse(X) and (X.indices.dtype != np.intc or\n",
      "\u001b[0;32m~/.local/lib/python3.8/site-packages/sklearn/base.py\u001b[0m in \u001b[0;36m_validate_data\u001b[0;34m(self, X, y, reset, validate_separately, **check_params)\u001b[0m\n\u001b[1;32m    435\u001b[0m \u001b[0;34m\u001b[0m\u001b[0m\n\u001b[1;32m    436\u001b[0m         \u001b[0;32mif\u001b[0m \u001b[0mcheck_params\u001b[0m\u001b[0;34m.\u001b[0m\u001b[0mget\u001b[0m\u001b[0;34m(\u001b[0m\u001b[0;34m'ensure_2d'\u001b[0m\u001b[0;34m,\u001b[0m \u001b[0;32mTrue\u001b[0m\u001b[0;34m)\u001b[0m\u001b[0;34m:\u001b[0m\u001b[0;34m\u001b[0m\u001b[0;34m\u001b[0m\u001b[0m\n\u001b[0;32m--> 437\u001b[0;31m             \u001b[0mself\u001b[0m\u001b[0;34m.\u001b[0m\u001b[0m_check_n_features\u001b[0m\u001b[0;34m(\u001b[0m\u001b[0mX\u001b[0m\u001b[0;34m,\u001b[0m \u001b[0mreset\u001b[0m\u001b[0;34m=\u001b[0m\u001b[0mreset\u001b[0m\u001b[0;34m)\u001b[0m\u001b[0;34m\u001b[0m\u001b[0;34m\u001b[0m\u001b[0m\n\u001b[0m\u001b[1;32m    438\u001b[0m \u001b[0;34m\u001b[0m\u001b[0m\n\u001b[1;32m    439\u001b[0m         \u001b[0;32mreturn\u001b[0m \u001b[0mout\u001b[0m\u001b[0;34m\u001b[0m\u001b[0;34m\u001b[0m\u001b[0m\n",
      "\u001b[0;32m~/.local/lib/python3.8/site-packages/sklearn/base.py\u001b[0m in \u001b[0;36m_check_n_features\u001b[0;34m(self, X, reset)\u001b[0m\n\u001b[1;32m    363\u001b[0m \u001b[0;34m\u001b[0m\u001b[0m\n\u001b[1;32m    364\u001b[0m         \u001b[0;32mif\u001b[0m \u001b[0mn_features\u001b[0m \u001b[0;34m!=\u001b[0m \u001b[0mself\u001b[0m\u001b[0;34m.\u001b[0m\u001b[0mn_features_in_\u001b[0m\u001b[0;34m:\u001b[0m\u001b[0;34m\u001b[0m\u001b[0;34m\u001b[0m\u001b[0m\n\u001b[0;32m--> 365\u001b[0;31m             raise ValueError(\n\u001b[0m\u001b[1;32m    366\u001b[0m                 \u001b[0;34mf\"X has {n_features} features, but {self.__class__.__name__} \"\u001b[0m\u001b[0;34m\u001b[0m\u001b[0;34m\u001b[0m\u001b[0m\n\u001b[1;32m    367\u001b[0m                 f\"is expecting {self.n_features_in_} features as input.\")\n",
      "\u001b[0;31mValueError\u001b[0m: X has 28 features, but DecisionTreeRegressor is expecting 32 features as input."
     ]
    }
   ],
   "source": [
    "\n",
    "print(f\"RMSE train: {mean_squared_error(y_train, model.predict(X_train)) ** 0.5}\")\n",
    "print(f\"RMSE test: {mean_squared_error(y_test, model.predict(X_test)) ** 0.5}\")"
   ]
  },
  {
   "cell_type": "code",
   "execution_count": null,
   "id": "d3edba45",
   "metadata": {},
   "outputs": [],
   "source": []
  },
  {
   "cell_type": "code",
   "execution_count": 59,
   "id": "3401fced",
   "metadata": {},
   "outputs": [],
   "source": [
    "results = []\n",
    "\n",
    "for depth in range(1, 21):\n",
    "    model2 = DecisionTreeRegressor(max_depth=depth, random_state=666)\n",
    "    model2.fit(X2_train, y2_train)\n",
    "    \n",
    "    result = {\n",
    "        \"model\": model2,\n",
    "        \"depth\": depth,\n",
    "        \"train_error\": mean_squared_error(y2_train, model2.predict(X2_train)),\n",
    "        \"test_error\": mean_squared_error(y2_test, model2.predict(X2_test))\n",
    "    }\n",
    "    \n",
    "    results.append(result)"
   ]
  },
  {
   "cell_type": "code",
   "execution_count": 60,
   "id": "3619e603",
   "metadata": {},
   "outputs": [
    {
     "data": {
      "text/plain": [
       "<matplotlib.legend.Legend at 0x7f5c9be86be0>"
      ]
     },
     "execution_count": 60,
     "metadata": {},
     "output_type": "execute_result"
    },
    {
     "data": {
      "image/png": "[encoded data removed]",
      "text/plain": [
       "<Figure size 720x720 with 1 Axes>"
      ]
     },
     "metadata": {
      "needs_background": "light"
     },
     "output_type": "display_data"
    }
   ],
   "source": [
    "results_df = pd.DataFrame(results)\n",
    "\n",
    "fig = plt.figure(figsize=(10, 10))\n",
    "plt.plot(results_df.depth, results_df.train_error, label=\"train error\")\n",
    "plt.plot(results_df.depth, results_df.test_error, label=\"test error\")\n",
    "plt.legend()"
   ]
  },
  {
   "cell_type": "code",
   "execution_count": 61,
   "id": "f58dc967",
   "metadata": {},
   "outputs": [
    {
     "data": {
      "text/plain": [
       "DecisionTreeRegressor(max_depth=9, min_samples_split=30, random_state=141)"
      ]
     },
     "execution_count": 61,
     "metadata": {},
     "output_type": "execute_result"
    }
   ],
   "source": [
    "model = DecisionTreeRegressor(max_depth=9, min_samples_split=30, random_state=141)\n",
    "model.fit(X2_train, y2_train)"
   ]
  },
  {
   "cell_type": "code",
   "execution_count": 63,
   "id": "be14f968",
   "metadata": {},
   "outputs": [
    {
     "name": "stdout",
     "output_type": "stream",
     "text": [
      "RMSE train: 3.336760624413626\n",
      "RMSE test: 3.768274590563752\n"
     ]
    }
   ],
   "source": [
    "print(f\"RMSE train: {mean_squared_error(y2_train, model.predict(X2_train)) ** 0.5}\")\n",
    "print(f\"RMSE test: {mean_squared_error(y2_test, model.predict(X2_test)) ** 0.5}\")"
   ]
  },
  {
   "cell_type": "code",
   "execution_count": 64,
   "id": "1d1371ab",
   "metadata": {},
   "outputs": [
    {
     "data": {
      "text/plain": [
       "DecisionTreeRegressor(max_depth=9, min_samples_split=30, random_state=141)"
      ]
     },
     "execution_count": 64,
     "metadata": {},
     "output_type": "execute_result"
    }
   ],
   "source": [
    "model.fit(X2, y2)"
   ]
  },
  {
   "cell_type": "code",
   "execution_count": 65,
   "id": "a8673d00",
   "metadata": {},
   "outputs": [],
   "source": [
    "from sklearn.tree import plot_tree\n",
    "import matplotlib.pyplot as plt"
   ]
  },
  {
   "cell_type": "code",
   "execution_count": 69,
   "id": "441cb118",
   "metadata": {},
   "outputs": [
    {
     "data": {
      "image/png": "[encoded data removed]",
      "text/plain": [
       "<Figure size 720x432 with 1 Axes>"
      ]
     },
     "metadata": {
      "needs_background": "light"
     },
     "output_type": "display_data"
    }
   ],
   "source": [
    "fig = plt.figure(figsize=(10, 6))\n",
    "plot_tree(model, feature_names=X2.columns[:-1], filled=True);"
   ]
  },
  {
   "cell_type": "code",
   "execution_count": 70,
   "id": "592ef845",
   "metadata": {},
   "outputs": [],
   "source": [
    "fig.savefig(\"classif_rank.svg\")\n"
   ]
  },
  {
   "cell_type": "code",
   "execution_count": 73,
   "id": "e698e3c2",
   "metadata": {},
   "outputs": [],
   "source": [
    "import sys\n",
    "import pickle\n",
    "sys.path.append('../')"
   ]
  },
  {
   "cell_type": "code",
   "execution_count": 75,
   "id": "cdd19c8e",
   "metadata": {},
   "outputs": [],
   "source": [
    "#pickle.dump(model, open(\"./decisiontree1.pkl\", \"wb\"))\n",
    "with open(\"../data/decisiontree1.pkl\", \"wb\") as mod:\n",
    "    pickle.dump(model,mod)"
   ]
  },
  {
   "cell_type": "code",
   "execution_count": null,
   "id": "6f607a3a",
   "metadata": {},
   "outputs": [],
   "source": [
    "# test phase\n",
    "pickle.load()\n",
    "user_series.to_frame()"
   ]
  }
 ],
 "metadata": {
  "kernelspec": {
   "display_name": "Python 3 (ipykernel)",
   "language": "python",
   "name": "python3"
  },
  "language_info": {
   "codemirror_mode": {
    "name": "ipython",
    "version": 3
   },
   "file_extension": ".py",
   "mimetype": "text/x-python",
   "name": "python",
   "nbconvert_exporter": "python",
   "pygments_lexer": "ipython3",
   "version": "3.8.10"
  }
 },
 "nbformat": 4,
 "nbformat_minor": 5
}
