{
 "cells": [
  {
   "cell_type": "markdown",
   "id": "a85ba0d0",
   "metadata": {},
   "source": [
    "   # mongo"
   ]
  },
  {
   "cell_type": "code",
   "execution_count": 1,
   "id": "6fc82b4b",
   "metadata": {},
   "outputs": [],
   "source": [
    "from pymongo import MongoClient\n",
    "client = MongoClient(\"localhost:27017\")\n",
    "db = client.get_database(\"LeagueRank\")\n",
    "c = db.get_collection(\"players\")"
   ]
  },
  {
   "cell_type": "code",
   "execution_count": 9,
   "id": "7d590807",
   "metadata": {},
   "outputs": [],
   "source": [
    "import pickle\n",
    "import sys\n",
    "sys.path.append('../')"
   ]
  },
  {
   "cell_type": "code",
   "execution_count": 5,
   "id": "a8956f2f",
   "metadata": {},
   "outputs": [
    {
     "data": {
      "text/plain": [
       "dict_keys(['_id', 'leagueId', 'queueType', 'tier', 'rank', 'summonerId', 'summonerName', 'leaguePoints', 'wins', 'losses', 'veteran', 'inactive', 'freshBlood', 'hotStreak', 'puuid', 'summonerLevel', 'match_ids'])"
      ]
     },
     "execution_count": 5,
     "metadata": {},
     "output_type": "execute_result"
    }
   ],
   "source": [
    "c.find_one().keys()\n"
   ]
  },
  {
   "cell_type": "code",
   "execution_count": 7,
   "id": "85ce0538",
   "metadata": {},
   "outputs": [
    {
     "name": "stdout",
     "output_type": "stream",
     "text": [
      "['I', 'II', 'III', 'IV']\n"
     ]
    },
    {
     "data": {
      "text/plain": [
       "['DIAMOND',\n",
       " 'PLATINUM',\n",
       " 'SILVER',\n",
       " 'BRONZE',\n",
       " 'IRON',\n",
       " 'GOLD',\n",
       " 'CHALLENGER',\n",
       " 'GRANDMASTER',\n",
       " 'MASTER']"
      ]
     },
     "execution_count": 7,
     "metadata": {},
     "output_type": "execute_result"
    }
   ],
   "source": [
    "print(c.distinct(\"rank\"))\n",
    "c.distinct(\"tier\")\n"
   ]
  },
  {
   "cell_type": "code",
   "execution_count": 2,
   "id": "ff7f8458",
   "metadata": {},
   "outputs": [],
   "source": [
    "filtro = {\"rating\": 5}\n",
    "proj = {\"match_ids\":1,\"_id\":0}"
   ]
  },
  {
   "cell_type": "code",
   "execution_count": 3,
   "id": "35637078",
   "metadata": {},
   "outputs": [],
   "source": [
    "games_list = list(c.find({},proj))\n",
    "#games_list_r = set(games_list)"
   ]
  },
  {
   "cell_type": "code",
   "execution_count": 4,
   "id": "b7e606d9",
   "metadata": {},
   "outputs": [
    {
     "data": {
      "text/plain": [
       "26341"
      ]
     },
     "execution_count": 4,
     "metadata": {},
     "output_type": "execute_result"
    }
   ],
   "source": [
    "len(games_list)"
   ]
  },
  {
   "cell_type": "code",
   "execution_count": 24,
   "id": "f254a2ab",
   "metadata": {},
   "outputs": [
    {
     "data": {
      "text/plain": [
       "['EUW1_5485093553',\n",
       " 'EUW1_5484989321',\n",
       " 'EUW1_5484867494',\n",
       " 'EUW1_5484912564',\n",
       " 'EUW1_5484790355',\n",
       " 'EUW1_5484344317',\n",
       " 'EUW1_5479125206',\n",
       " 'EUW1_5479100486',\n",
       " 'EUW1_5446320506',\n",
       " 'EUW1_5428419535']"
      ]
     },
     "execution_count": 24,
     "metadata": {},
     "output_type": "execute_result"
    }
   ],
   "source": [
    "games_list[0]['match_ids'][:10]"
   ]
  },
  {
   "cell_type": "code",
   "execution_count": 5,
   "id": "5aa82ad4",
   "metadata": {},
   "outputs": [],
   "source": [
    "games_id_list=[]\n",
    "for l in games_list:\n",
    "    games_id_list += l['match_ids']"
   ]
  },
  {
   "cell_type": "code",
   "execution_count": 6,
   "id": "15a49432",
   "metadata": {},
   "outputs": [
    {
     "data": {
      "text/plain": [
       "2137554"
      ]
     },
     "execution_count": 6,
     "metadata": {},
     "output_type": "execute_result"
    }
   ],
   "source": [
    "len(games_id_list)"
   ]
  },
  {
   "cell_type": "markdown",
   "id": "0d4726cf",
   "metadata": {},
   "source": [
    "de cinco a seis días de bajada"
   ]
  },
  {
   "cell_type": "code",
   "execution_count": 7,
   "id": "947ac560",
   "metadata": {},
   "outputs": [
    {
     "data": {
      "text/plain": [
       "1877901"
      ]
     },
     "execution_count": 7,
     "metadata": {},
     "output_type": "execute_result"
    }
   ],
   "source": [
    "games_unique = set(games_id_list)\n",
    "len(games_unique)"
   ]
  },
  {
   "cell_type": "code",
   "execution_count": 10,
   "id": "cc2b80cb",
   "metadata": {},
   "outputs": [],
   "source": [
    "with open(\"../data/game_id_list.txt\", \"wb\") as fp:\n",
    "    pickle.dump(list(games_unique),fp)"
   ]
  },
  {
   "cell_type": "code",
   "execution_count": 41,
   "id": "aedea765",
   "metadata": {},
   "outputs": [
    {
     "data": {
      "text/plain": [
       "0.1214720189525037"
      ]
     },
     "execution_count": 41,
     "metadata": {},
     "output_type": "execute_result"
    }
   ],
   "source": [
    "1-(1877901/2137554)"
   ]
  },
  {
   "cell_type": "code",
   "execution_count": 8,
   "id": "20565d22",
   "metadata": {},
   "outputs": [],
   "source": [
    "games_id_list_10=[]\n",
    "for l in games_list:\n",
    "    games_id_list_10 += l['match_ids'][:10]"
   ]
  },
  {
   "cell_type": "code",
   "execution_count": 9,
   "id": "de4b8374",
   "metadata": {},
   "outputs": [
    {
     "name": "stdout",
     "output_type": "stream",
     "text": [
      "263113\n"
     ]
    },
    {
     "data": {
      "text/plain": [
       "240400"
      ]
     },
     "execution_count": 9,
     "metadata": {},
     "output_type": "execute_result"
    }
   ],
   "source": [
    "print(len(games_id_list_10))\n",
    "games_unique_10 = set(games_id_list_10)\n",
    "len(games_unique_10)"
   ]
  },
  {
   "cell_type": "code",
   "execution_count": 15,
   "id": "485cdc34",
   "metadata": {},
   "outputs": [],
   "source": [
    "with open(\"../data/game_id_list_10.txt\", \"wb\") as fp:\n",
    "    pickle.dump(games_unique_10,fp)"
   ]
  },
  {
   "cell_type": "code",
   "execution_count": 17,
   "id": "d942b62d",
   "metadata": {},
   "outputs": [],
   "source": [
    "with open(\"../data/game_id_list_10.txt\", \"rb\") as fp:\n",
    "    read = pickle.load(fp)"
   ]
  },
  {
   "cell_type": "code",
   "execution_count": 19,
   "id": "39ee156f",
   "metadata": {},
   "outputs": [
    {
     "data": {
      "text/plain": [
       "240400"
      ]
     },
     "execution_count": 19,
     "metadata": {},
     "output_type": "execute_result"
    }
   ],
   "source": [
    "len(read)"
   ]
  },
  {
   "cell_type": "code",
   "execution_count": null,
   "id": "fee5f1f3",
   "metadata": {},
   "outputs": [],
   "source": [
    "games_id_list_50=[]\n",
    "for l in games_list:\n",
    "    games_id_list_10 += l['match_ids'][:10]"
   ]
  }
 ],
 "metadata": {
  "kernelspec": {
   "display_name": "Python 3 (ipykernel)",
   "language": "python",
   "name": "python3"
  },
  "language_info": {
   "codemirror_mode": {
    "name": "ipython",
    "version": 3
   },
   "file_extension": ".py",
   "mimetype": "text/x-python",
   "name": "python",
   "nbconvert_exporter": "python",
   "pygments_lexer": "ipython3",
   "version": "3.8.10"
  }
 },
 "nbformat": 4,
 "nbformat_minor": 5
}
