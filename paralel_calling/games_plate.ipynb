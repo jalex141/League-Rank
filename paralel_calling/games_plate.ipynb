{
 "cells": [
  {
   "cell_type": "code",
   "execution_count": 1,
   "id": "5417a1ae",
   "metadata": {},
   "outputs": [],
   "source": [
    "import requests \n",
    "import json\n",
    "import os\n",
    "from getpass import getpass\n",
    "import pandas as pd\n",
    "from pandas import json_normalize\n",
    "#import tweepy\n",
    "import time\n",
    "from datetime import datetime\n",
    "import sys\n",
    "sys.path.append('../')\n",
    "#from src import functions as fn \n",
    "from src import gathering as ga\n",
    "import pickle\n",
    "\n",
    "from riotwatcher import LolWatcher, ApiError"
   ]
  },
  {
   "cell_type": "code",
   "execution_count": 2,
   "id": "8e92720f",
   "metadata": {},
   "outputs": [],
   "source": [
    "with open(\"../data/game_id_list_10.txt\", \"rb\") as fp:\n",
    "    read = pickle.load(fp)"
   ]
  },
  {
   "cell_type": "code",
   "execution_count": 3,
   "id": "1caea7c9",
   "metadata": {},
   "outputs": [
    {
     "data": {
      "text/plain": [
       "240400"
      ]
     },
     "execution_count": 3,
     "metadata": {},
     "output_type": "execute_result"
    }
   ],
   "source": [
    "len(read)"
   ]
  },
  {
   "cell_type": "code",
   "execution_count": 4,
   "id": "0af4d9cf",
   "metadata": {},
   "outputs": [
    {
     "name": "stdout",
     "output_type": "stream",
     "text": [
      "BREAK! https://europe.api.riotgames.com/lol/match/v5/matches/EUW1_5231244142?api_key=RGAPI-30299c29-c0d5-4dda-a0b7-956ea8704549   <Response [403]>\n",
      "<class 'Exception'>\n",
      "1  players info fixed\n"
     ]
    },
    {
     "data": {
      "text/plain": [
       "[]"
      ]
     },
     "execution_count": 4,
     "metadata": {},
     "output_type": "execute_result"
    }
   ],
   "source": [
    "ga.build_games(list(read),0,40000)\n",
    "#with open(f'../data/games_180-end.json', 'a') as f:\n",
    "    #json.dump(ga.buid_games(list(read)[180000:]),f)"
   ]
  }
 ],
 "metadata": {
  "kernelspec": {
   "display_name": "Python 3 (ipykernel)",
   "language": "python",
   "name": "python3"
  },
  "language_info": {
   "codemirror_mode": {
    "name": "ipython",
    "version": 3
   },
   "file_extension": ".py",
   "mimetype": "text/x-python",
   "name": "python",
   "nbconvert_exporter": "python",
   "pygments_lexer": "ipython3",
   "version": "3.8.10"
  }
 },
 "nbformat": 4,
 "nbformat_minor": 5
}
